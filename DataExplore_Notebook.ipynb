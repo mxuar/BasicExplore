{
 "cells": [
  {
   "cell_type": "markdown",
   "metadata": {},
   "source": [
    "# Data Exploration"
   ]
  },
  {
   "cell_type": "markdown",
   "metadata": {},
   "source": [
    "### Read in data"
   ]
  },
  {
   "cell_type": "code",
   "execution_count": 1,
   "metadata": {
    "collapsed": true
   },
   "outputs": [],
   "source": [
    "import pandas as pd\n",
    "import numpy as np\n",
    "import matplotlib.pyplot as plt\n",
    "import datetime"
   ]
  },
  {
   "cell_type": "code",
   "execution_count": 2,
   "metadata": {
    "collapsed": true
   },
   "outputs": [],
   "source": [
    "df_logs = pd.read_excel(xls, sheet_name='question_behavior_log')\n",
    "df_attempts = pd.read_csv('./attempts.tsv',sep = '\\t')\n",
    "df_questions = pd.read_csv('./question_details.tsv',sep = '\\t')\n",
    "df_metadata = pd.read_csv('./question_meta_data.csv')"
   ]
  },
  {
   "cell_type": "markdown",
   "metadata": {},
   "source": [
    "### Take a glimpse to the data used"
   ]
  },
  {
   "cell_type": "markdown",
   "metadata": {},
   "source": [
    "The recorded interaction ------ 118,308 records"
   ]
  },
  {
   "cell_type": "code",
   "execution_count": 3,
   "metadata": {},
   "outputs": [
    {
     "data": {
      "text/html": [
       "<div>\n",
       "<style>\n",
       "    .dataframe thead tr:only-child th {\n",
       "        text-align: right;\n",
       "    }\n",
       "\n",
       "    .dataframe thead th {\n",
       "        text-align: left;\n",
       "    }\n",
       "\n",
       "    .dataframe tbody tr th {\n",
       "        vertical-align: top;\n",
       "    }\n",
       "</style>\n",
       "<table border=\"1\" class=\"dataframe\">\n",
       "  <thead>\n",
       "    <tr style=\"text-align: right;\">\n",
       "      <th></th>\n",
       "      <th>id</th>\n",
       "      <th>question_code</th>\n",
       "      <th>action</th>\n",
       "      <th>question_state</th>\n",
       "      <th>action_object_id</th>\n",
       "      <th>frontend_user_id</th>\n",
       "      <th>from_state</th>\n",
       "      <th>result_state</th>\n",
       "      <th>question_score</th>\n",
       "      <th>created_at</th>\n",
       "    </tr>\n",
       "  </thead>\n",
       "  <tbody>\n",
       "    <tr>\n",
       "      <th>0</th>\n",
       "      <td>37660</td>\n",
       "      <td>M1702003</td>\n",
       "      <td>dragend</td>\n",
       "      <td>{\"q1\":[1,1]}</td>\n",
       "      <td>o1</td>\n",
       "      <td>5729</td>\n",
       "      <td>\\0</td>\n",
       "      <td>\\0</td>\n",
       "      <td>33</td>\n",
       "      <td>2018-03-28 08:57:59</td>\n",
       "    </tr>\n",
       "    <tr>\n",
       "      <th>1</th>\n",
       "      <td>37661</td>\n",
       "      <td>M1702003</td>\n",
       "      <td>dragend</td>\n",
       "      <td>{\"q1\":[3,3]}</td>\n",
       "      <td>o1</td>\n",
       "      <td>5729</td>\n",
       "      <td>\\0</td>\n",
       "      <td>\\0</td>\n",
       "      <td>100</td>\n",
       "      <td>2018-03-28 08:58:16</td>\n",
       "    </tr>\n",
       "    <tr>\n",
       "      <th>2</th>\n",
       "      <td>37764</td>\n",
       "      <td>M1702003</td>\n",
       "      <td>dragend</td>\n",
       "      <td>{\"q1\":[3,4]}</td>\n",
       "      <td>o1</td>\n",
       "      <td>15663</td>\n",
       "      <td>\\0</td>\n",
       "      <td>\\0</td>\n",
       "      <td>33</td>\n",
       "      <td>2018-03-28 12:25:04</td>\n",
       "    </tr>\n",
       "    <tr>\n",
       "      <th>3</th>\n",
       "      <td>37765</td>\n",
       "      <td>M1702003</td>\n",
       "      <td>dragend</td>\n",
       "      <td>{\"q1\":[3,3]}</td>\n",
       "      <td>o1</td>\n",
       "      <td>15663</td>\n",
       "      <td>\\0</td>\n",
       "      <td>\\0</td>\n",
       "      <td>100</td>\n",
       "      <td>2018-03-28 12:25:24</td>\n",
       "    </tr>\n",
       "    <tr>\n",
       "      <th>4</th>\n",
       "      <td>37807</td>\n",
       "      <td>M1702003</td>\n",
       "      <td>dragend</td>\n",
       "      <td>{\"q1\":[1,2]}</td>\n",
       "      <td>o1</td>\n",
       "      <td>11207</td>\n",
       "      <td>\\0</td>\n",
       "      <td>\\0</td>\n",
       "      <td>33</td>\n",
       "      <td>2018-03-28 13:51:55</td>\n",
       "    </tr>\n",
       "  </tbody>\n",
       "</table>\n",
       "</div>"
      ],
      "text/plain": [
       "      id question_code   action question_state action_object_id  \\\n",
       "0  37660      M1702003  dragend   {\"q1\":[1,1]}               o1   \n",
       "1  37661      M1702003  dragend   {\"q1\":[3,3]}               o1   \n",
       "2  37764      M1702003  dragend   {\"q1\":[3,4]}               o1   \n",
       "3  37765      M1702003  dragend   {\"q1\":[3,3]}               o1   \n",
       "4  37807      M1702003  dragend   {\"q1\":[1,2]}               o1   \n",
       "\n",
       "   frontend_user_id from_state result_state question_score          created_at  \n",
       "0              5729         \\0           \\0             33 2018-03-28 08:57:59  \n",
       "1              5729         \\0           \\0            100 2018-03-28 08:58:16  \n",
       "2             15663         \\0           \\0             33 2018-03-28 12:25:04  \n",
       "3             15663         \\0           \\0            100 2018-03-28 12:25:24  \n",
       "4             11207         \\0           \\0             33 2018-03-28 13:51:55  "
      ]
     },
     "execution_count": 3,
     "metadata": {},
     "output_type": "execute_result"
    }
   ],
   "source": [
    "df_logs.head()"
   ]
  },
  {
   "cell_type": "code",
   "execution_count": 4,
   "metadata": {},
   "outputs": [
    {
     "data": {
      "text/plain": [
       "(118308, 10)"
      ]
     },
     "execution_count": 4,
     "metadata": {},
     "output_type": "execute_result"
    }
   ],
   "source": [
    "df_logs.shape"
   ]
  },
  {
   "cell_type": "markdown",
   "metadata": {},
   "source": [
    "The recorded score ------13,020 records, and after drop duplicates, there still have 10,478 records"
   ]
  },
  {
   "cell_type": "code",
   "execution_count": 5,
   "metadata": {},
   "outputs": [
    {
     "data": {
      "text/html": [
       "<div>\n",
       "<style>\n",
       "    .dataframe thead tr:only-child th {\n",
       "        text-align: right;\n",
       "    }\n",
       "\n",
       "    .dataframe thead th {\n",
       "        text-align: left;\n",
       "    }\n",
       "\n",
       "    .dataframe tbody tr th {\n",
       "        vertical-align: top;\n",
       "    }\n",
       "</style>\n",
       "<table border=\"1\" class=\"dataframe\">\n",
       "  <thead>\n",
       "    <tr style=\"text-align: right;\">\n",
       "      <th></th>\n",
       "      <th>question_code</th>\n",
       "      <th>question_state</th>\n",
       "      <th>frontend_user_id</th>\n",
       "      <th>question_score</th>\n",
       "      <th>created_at</th>\n",
       "    </tr>\n",
       "  </thead>\n",
       "  <tbody>\n",
       "    <tr>\n",
       "      <th>0</th>\n",
       "      <td>ICM0901127</td>\n",
       "      <td>{\"answer\":[\"7\",\"6\"]}</td>\n",
       "      <td>4792</td>\n",
       "      <td>100</td>\n",
       "      <td>28/12/2017 10:29:02</td>\n",
       "    </tr>\n",
       "    <tr>\n",
       "      <th>1</th>\n",
       "      <td>ICM0901127</td>\n",
       "      <td>{\"answer\":[\"7\",\"6\"]}</td>\n",
       "      <td>4862</td>\n",
       "      <td>100</td>\n",
       "      <td>2/10/2017 13:05:01</td>\n",
       "    </tr>\n",
       "    <tr>\n",
       "      <th>2</th>\n",
       "      <td>ICM0901127</td>\n",
       "      <td>{\"answer\":[\"6\",\"3\"]}</td>\n",
       "      <td>4861</td>\n",
       "      <td>100</td>\n",
       "      <td>2/10/2017 14:02:29</td>\n",
       "    </tr>\n",
       "    <tr>\n",
       "      <th>3</th>\n",
       "      <td>ICM0901127</td>\n",
       "      <td>{\"answer\":[\"5\",\"7\"]}</td>\n",
       "      <td>4857</td>\n",
       "      <td>0</td>\n",
       "      <td>5/10/2017 12:18:07</td>\n",
       "    </tr>\n",
       "    <tr>\n",
       "      <th>4</th>\n",
       "      <td>ICM0901127</td>\n",
       "      <td>{\"answer\":[\"6\",\"7\"]}</td>\n",
       "      <td>4267</td>\n",
       "      <td>100</td>\n",
       "      <td>6/10/2017 11:25:07</td>\n",
       "    </tr>\n",
       "  </tbody>\n",
       "</table>\n",
       "</div>"
      ],
      "text/plain": [
       "  question_code        question_state  frontend_user_id  question_score  \\\n",
       "0    ICM0901127  {\"answer\":[\"7\",\"6\"]}              4792             100   \n",
       "1    ICM0901127  {\"answer\":[\"7\",\"6\"]}              4862             100   \n",
       "2    ICM0901127  {\"answer\":[\"6\",\"3\"]}              4861             100   \n",
       "3    ICM0901127  {\"answer\":[\"5\",\"7\"]}              4857               0   \n",
       "4    ICM0901127  {\"answer\":[\"6\",\"7\"]}              4267             100   \n",
       "\n",
       "            created_at  \n",
       "0  28/12/2017 10:29:02  \n",
       "1   2/10/2017 13:05:01  \n",
       "2   2/10/2017 14:02:29  \n",
       "3   5/10/2017 12:18:07  \n",
       "4   6/10/2017 11:25:07  "
      ]
     },
     "execution_count": 5,
     "metadata": {},
     "output_type": "execute_result"
    }
   ],
   "source": [
    "df_attempts.head()"
   ]
  },
  {
   "cell_type": "code",
   "execution_count": 6,
   "metadata": {},
   "outputs": [
    {
     "data": {
      "text/plain": [
       "(13020, 5)"
      ]
     },
     "execution_count": 6,
     "metadata": {},
     "output_type": "execute_result"
    }
   ],
   "source": [
    "df_attempts.shape"
   ]
  },
  {
   "cell_type": "markdown",
   "metadata": {},
   "source": [
    "The Type and ID of questions"
   ]
  },
  {
   "cell_type": "code",
   "execution_count": 7,
   "metadata": {},
   "outputs": [
    {
     "data": {
      "text/html": [
       "<div>\n",
       "<style>\n",
       "    .dataframe thead tr:only-child th {\n",
       "        text-align: right;\n",
       "    }\n",
       "\n",
       "    .dataframe thead th {\n",
       "        text-align: left;\n",
       "    }\n",
       "\n",
       "    .dataframe tbody tr th {\n",
       "        vertical-align: top;\n",
       "    }\n",
       "</style>\n",
       "<table border=\"1\" class=\"dataframe\">\n",
       "  <thead>\n",
       "    <tr style=\"text-align: right;\">\n",
       "      <th></th>\n",
       "      <th>code</th>\n",
       "      <th>name</th>\n",
       "      <th>group</th>\n",
       "    </tr>\n",
       "  </thead>\n",
       "  <tbody>\n",
       "    <tr>\n",
       "      <th>0</th>\n",
       "      <td>ICM0901127</td>\n",
       "      <td>Dotsym</td>\n",
       "      <td>Spatial</td>\n",
       "    </tr>\n",
       "    <tr>\n",
       "      <th>1</th>\n",
       "      <td>ICM0901049</td>\n",
       "      <td>Squarepair</td>\n",
       "      <td>Spatial</td>\n",
       "    </tr>\n",
       "    <tr>\n",
       "      <th>2</th>\n",
       "      <td>ICM1300129</td>\n",
       "      <td>Hexahide</td>\n",
       "      <td>Geometry</td>\n",
       "    </tr>\n",
       "    <tr>\n",
       "      <th>3</th>\n",
       "      <td>ICM1300157</td>\n",
       "      <td>Co-ordinates</td>\n",
       "      <td>Geometry</td>\n",
       "    </tr>\n",
       "    <tr>\n",
       "      <th>4</th>\n",
       "      <td>MI133051</td>\n",
       "      <td>Transform</td>\n",
       "      <td>Geometry</td>\n",
       "    </tr>\n",
       "  </tbody>\n",
       "</table>\n",
       "</div>"
      ],
      "text/plain": [
       "         code          name     group\n",
       "0  ICM0901127        Dotsym   Spatial\n",
       "1  ICM0901049    Squarepair   Spatial\n",
       "2  ICM1300129      Hexahide  Geometry\n",
       "3  ICM1300157  Co-ordinates  Geometry\n",
       "4    MI133051     Transform  Geometry"
      ]
     },
     "execution_count": 7,
     "metadata": {},
     "output_type": "execute_result"
    }
   ],
   "source": [
    "df_questions = df_questions.rename(columns={'group_concat(distinct categories.name)': 'group'})\n",
    "df_questions.head()"
   ]
  },
  {
   "cell_type": "code",
   "execution_count": 8,
   "metadata": {},
   "outputs": [
    {
     "data": {
      "text/plain": [
       "(59, 3)"
      ]
     },
     "execution_count": 8,
     "metadata": {},
     "output_type": "execute_result"
    }
   ],
   "source": [
    "df_questions.shape"
   ]
  },
  {
   "cell_type": "markdown",
   "metadata": {},
   "source": [
    "The Difficulty and Grade of questions"
   ]
  },
  {
   "cell_type": "code",
   "execution_count": 9,
   "metadata": {},
   "outputs": [
    {
     "data": {
      "text/html": [
       "<div>\n",
       "<style>\n",
       "    .dataframe thead tr:only-child th {\n",
       "        text-align: right;\n",
       "    }\n",
       "\n",
       "    .dataframe thead th {\n",
       "        text-align: left;\n",
       "    }\n",
       "\n",
       "    .dataframe tbody tr th {\n",
       "        vertical-align: top;\n",
       "    }\n",
       "</style>\n",
       "<table border=\"1\" class=\"dataframe\">\n",
       "  <thead>\n",
       "    <tr style=\"text-align: right;\">\n",
       "      <th></th>\n",
       "      <th>question_id</th>\n",
       "      <th>name</th>\n",
       "      <th>grade</th>\n",
       "      <th>difficulty</th>\n",
       "      <th>question_objectives</th>\n",
       "    </tr>\n",
       "  </thead>\n",
       "  <tbody>\n",
       "    <tr>\n",
       "      <th>0</th>\n",
       "      <td>1</td>\n",
       "      <td>Zig Zag</td>\n",
       "      <td>6</td>\n",
       "      <td>2</td>\n",
       "      <td>To explore a situation to find and prove gener...</td>\n",
       "    </tr>\n",
       "    <tr>\n",
       "      <th>1</th>\n",
       "      <td>2</td>\n",
       "      <td>Squarepull</td>\n",
       "      <td>5</td>\n",
       "      <td>2</td>\n",
       "      <td>To design an object, mechanism or structure, o...</td>\n",
       "    </tr>\n",
       "    <tr>\n",
       "      <th>2</th>\n",
       "      <td>3</td>\n",
       "      <td>Shader</td>\n",
       "      <td>5</td>\n",
       "      <td>2</td>\n",
       "      <td>To extract some specified further information ...</td>\n",
       "    </tr>\n",
       "    <tr>\n",
       "      <th>3</th>\n",
       "      <td>6</td>\n",
       "      <td>Hexagology</td>\n",
       "      <td>1</td>\n",
       "      <td>1</td>\n",
       "      <td>To extract some specified further information ...</td>\n",
       "    </tr>\n",
       "    <tr>\n",
       "      <th>4</th>\n",
       "      <td>7</td>\n",
       "      <td>One two three</td>\n",
       "      <td>3</td>\n",
       "      <td>3</td>\n",
       "      <td>To extract some specified further information ...</td>\n",
       "    </tr>\n",
       "  </tbody>\n",
       "</table>\n",
       "</div>"
      ],
      "text/plain": [
       "   question_id           name  grade  difficulty  \\\n",
       "0            1        Zig Zag      6           2   \n",
       "1            2     Squarepull      5           2   \n",
       "2            3         Shader      5           2   \n",
       "3            6     Hexagology      1           1   \n",
       "4            7  One two three      3           3   \n",
       "\n",
       "                                 question_objectives  \n",
       "0  To explore a situation to find and prove gener...  \n",
       "1  To design an object, mechanism or structure, o...  \n",
       "2  To extract some specified further information ...  \n",
       "3  To extract some specified further information ...  \n",
       "4  To extract some specified further information ...  "
      ]
     },
     "execution_count": 9,
     "metadata": {},
     "output_type": "execute_result"
    }
   ],
   "source": [
    "df_metadata.head()"
   ]
  },
  {
   "cell_type": "code",
   "execution_count": 10,
   "metadata": {},
   "outputs": [
    {
     "data": {
      "text/plain": [
       "(1681, 5)"
      ]
     },
     "execution_count": 10,
     "metadata": {},
     "output_type": "execute_result"
    }
   ],
   "source": [
    "df_metadata.shape"
   ]
  },
  {
   "cell_type": "markdown",
   "metadata": {},
   "source": [
    "### At question level to explore the data"
   ]
  },
  {
   "cell_type": "markdown",
   "metadata": {},
   "source": [
    "Because the questions' information isn't stored in the same files, we need to combine these information first"
   ]
  },
  {
   "cell_type": "code",
   "execution_count": 11,
   "metadata": {},
   "outputs": [
    {
     "data": {
      "text/html": [
       "<div>\n",
       "<style>\n",
       "    .dataframe thead tr:only-child th {\n",
       "        text-align: right;\n",
       "    }\n",
       "\n",
       "    .dataframe thead th {\n",
       "        text-align: left;\n",
       "    }\n",
       "\n",
       "    .dataframe tbody tr th {\n",
       "        vertical-align: top;\n",
       "    }\n",
       "</style>\n",
       "<table border=\"1\" class=\"dataframe\">\n",
       "  <thead>\n",
       "    <tr style=\"text-align: right;\">\n",
       "      <th></th>\n",
       "      <th>question_code</th>\n",
       "      <th>frontend_user_id</th>\n",
       "      <th>question_score</th>\n",
       "      <th>name</th>\n",
       "      <th>group</th>\n",
       "      <th>grade</th>\n",
       "      <th>difficulty</th>\n",
       "    </tr>\n",
       "  </thead>\n",
       "  <tbody>\n",
       "    <tr>\n",
       "      <th>0</th>\n",
       "      <td>ICM0901127</td>\n",
       "      <td>4792</td>\n",
       "      <td>100</td>\n",
       "      <td>Dotsym</td>\n",
       "      <td>Spatial</td>\n",
       "      <td>4</td>\n",
       "      <td>2</td>\n",
       "    </tr>\n",
       "    <tr>\n",
       "      <th>1</th>\n",
       "      <td>ICM0901127</td>\n",
       "      <td>4862</td>\n",
       "      <td>100</td>\n",
       "      <td>Dotsym</td>\n",
       "      <td>Spatial</td>\n",
       "      <td>4</td>\n",
       "      <td>2</td>\n",
       "    </tr>\n",
       "    <tr>\n",
       "      <th>2</th>\n",
       "      <td>ICM0901127</td>\n",
       "      <td>4861</td>\n",
       "      <td>100</td>\n",
       "      <td>Dotsym</td>\n",
       "      <td>Spatial</td>\n",
       "      <td>4</td>\n",
       "      <td>2</td>\n",
       "    </tr>\n",
       "    <tr>\n",
       "      <th>3</th>\n",
       "      <td>ICM0901127</td>\n",
       "      <td>4857</td>\n",
       "      <td>0</td>\n",
       "      <td>Dotsym</td>\n",
       "      <td>Spatial</td>\n",
       "      <td>4</td>\n",
       "      <td>2</td>\n",
       "    </tr>\n",
       "    <tr>\n",
       "      <th>4</th>\n",
       "      <td>ICM0901127</td>\n",
       "      <td>4267</td>\n",
       "      <td>100</td>\n",
       "      <td>Dotsym</td>\n",
       "      <td>Spatial</td>\n",
       "      <td>4</td>\n",
       "      <td>2</td>\n",
       "    </tr>\n",
       "  </tbody>\n",
       "</table>\n",
       "</div>"
      ],
      "text/plain": [
       "  question_code  frontend_user_id  question_score    name    group  grade  \\\n",
       "0    ICM0901127              4792             100  Dotsym  Spatial      4   \n",
       "1    ICM0901127              4862             100  Dotsym  Spatial      4   \n",
       "2    ICM0901127              4861             100  Dotsym  Spatial      4   \n",
       "3    ICM0901127              4857               0  Dotsym  Spatial      4   \n",
       "4    ICM0901127              4267             100  Dotsym  Spatial      4   \n",
       "\n",
       "   difficulty  \n",
       "0           2  \n",
       "1           2  \n",
       "2           2  \n",
       "3           2  \n",
       "4           2  "
      ]
     },
     "execution_count": 11,
     "metadata": {},
     "output_type": "execute_result"
    }
   ],
   "source": [
    "df_ques = pd.merge(df_attempts,df_questions,right_on = 'code',left_on = 'question_code')\\\n",
    "    .drop(['question_state','code','created_at'],axis = 1)\n",
    "df_ques = pd.merge(df_ques, df_metadata).drop_duplicates()\\\n",
    "            .drop(['question_objectives','question_id'],axis=1)\n",
    "df_ques.head()"
   ]
  },
  {
   "cell_type": "markdown",
   "metadata": {},
   "source": [
    "Find the average score of each question"
   ]
  },
  {
   "cell_type": "code",
   "execution_count": 12,
   "metadata": {},
   "outputs": [
    {
     "data": {
      "text/html": [
       "<div>\n",
       "<style>\n",
       "    .dataframe thead tr:only-child th {\n",
       "        text-align: right;\n",
       "    }\n",
       "\n",
       "    .dataframe thead th {\n",
       "        text-align: left;\n",
       "    }\n",
       "\n",
       "    .dataframe tbody tr th {\n",
       "        vertical-align: top;\n",
       "    }\n",
       "</style>\n",
       "<table border=\"1\" class=\"dataframe\">\n",
       "  <thead>\n",
       "    <tr style=\"text-align: right;\">\n",
       "      <th></th>\n",
       "      <th>difficulty</th>\n",
       "      <th>user_number</th>\n",
       "      <th>question_score</th>\n",
       "    </tr>\n",
       "    <tr>\n",
       "      <th>question_code</th>\n",
       "      <th></th>\n",
       "      <th></th>\n",
       "      <th></th>\n",
       "    </tr>\n",
       "  </thead>\n",
       "  <tbody>\n",
       "    <tr>\n",
       "      <th>N1310001</th>\n",
       "      <td>1.0</td>\n",
       "      <td>392</td>\n",
       "      <td>76.466837</td>\n",
       "    </tr>\n",
       "    <tr>\n",
       "      <th>N1310002</th>\n",
       "      <td>1.0</td>\n",
       "      <td>326</td>\n",
       "      <td>79.555215</td>\n",
       "    </tr>\n",
       "    <tr>\n",
       "      <th>M1703004</th>\n",
       "      <td>1.0</td>\n",
       "      <td>198</td>\n",
       "      <td>58.833333</td>\n",
       "    </tr>\n",
       "    <tr>\n",
       "      <th>M1702004</th>\n",
       "      <td>1.0</td>\n",
       "      <td>487</td>\n",
       "      <td>85.174538</td>\n",
       "    </tr>\n",
       "    <tr>\n",
       "      <th>S1213003</th>\n",
       "      <td>1.0</td>\n",
       "      <td>314</td>\n",
       "      <td>83.439490</td>\n",
       "    </tr>\n",
       "  </tbody>\n",
       "</table>\n",
       "</div>"
      ],
      "text/plain": [
       "               difficulty  user_number  question_score\n",
       "question_code                                         \n",
       "N1310001              1.0          392       76.466837\n",
       "N1310002              1.0          326       79.555215\n",
       "M1703004              1.0          198       58.833333\n",
       "M1702004              1.0          487       85.174538\n",
       "S1213003              1.0          314       83.439490"
      ]
     },
     "execution_count": 12,
     "metadata": {},
     "output_type": "execute_result"
    }
   ],
   "source": [
    "df_difftoscore = df_ques.groupby('question_code')\\\n",
    "        .agg({'frontend_user_id':'count','question_score':'mean','difficulty': 'mean'})\\\n",
    "        .sort_values('difficulty')\\\n",
    "        .rename(columns = {'frontend_user_id': 'user_number'})\n",
    "df_difftoscore.head()"
   ]
  },
  {
   "cell_type": "markdown",
   "metadata": {},
   "source": [
    "Draw the pic to show the relation between difficulty and score"
   ]
  },
  {
   "cell_type": "code",
   "execution_count": 13,
   "metadata": {},
   "outputs": [
    {
     "data": {
      "image/png": "[encoded data removed]",
      "text/plain": [
       "<matplotlib.figure.Figure at 0x110259b10>"
      ]
     },
     "metadata": {},
     "output_type": "display_data"
    }
   ],
   "source": [
    "x = df_difftoscore['difficulty']\n",
    "y = df_difftoscore['question_score']\n",
    "fig = plt.figure()\n",
    "ax1 = fig.add_subplot(111)\n",
    "\n",
    "ax1.set_title('Relation between question difficulty and average score')\n",
    "\n",
    "plt.xlabel('Question Difficulty')\n",
    "\n",
    "plt.ylabel('Average Scores of Questions')\n",
    "\n",
    "ax1.scatter(x,y,c = 'r',marker = 'o')\n",
    "\n",
    "plt.legend('x1').remove()\n",
    "\n",
    "plt.show()"
   ]
  },
  {
   "cell_type": "markdown",
   "metadata": {},
   "source": [
    "Maybe can set a score range for questions in different difficulty level,which could help to find the questions who is set wrong difficulty label"
   ]
  },
  {
   "cell_type": "markdown",
   "metadata": {},
   "source": [
    "### At time level to explore the data"
   ]
  },
  {
   "cell_type": "markdown",
   "metadata": {},
   "source": [
    "Because the recorded timestamp is based on the Greenwich zone, we need to analyze the data on time level after transform the timestamp into Beijing zone.\n",
    "And I separate a day into four parts:\n",
    "0 stands for 0am - 5.59am\n",
    "1 stands for 6am - 11.59am\n",
    "2 stands for 12am - 5.59pm\n",
    "3 stands for 6pm - 11.59pm"
   ]
  },
  {
   "cell_type": "code",
   "execution_count": 14,
   "metadata": {
    "collapsed": true
   },
   "outputs": [],
   "source": [
    "def getchhour(arr):\n",
    "    hour = int(arr.split(':')[0].split(' ')[1])\n",
    "    if 16<hour<22 or hour ==16:\n",
    "        return 0;\n",
    "    elif 22<hour or hour<4 or hour ==22:\n",
    "        return 1;\n",
    "    elif 4<hour<10 or hour == 4:\n",
    "        return 2;\n",
    "    else: return 3;"
   ]
  },
  {
   "cell_type": "code",
   "execution_count": 15,
   "metadata": {},
   "outputs": [
    {
     "data": {
      "text/html": [
       "<div>\n",
       "<style>\n",
       "    .dataframe thead tr:only-child th {\n",
       "        text-align: right;\n",
       "    }\n",
       "\n",
       "    .dataframe thead th {\n",
       "        text-align: left;\n",
       "    }\n",
       "\n",
       "    .dataframe tbody tr th {\n",
       "        vertical-align: top;\n",
       "    }\n",
       "</style>\n",
       "<table border=\"1\" class=\"dataframe\">\n",
       "  <thead>\n",
       "    <tr style=\"text-align: right;\">\n",
       "      <th></th>\n",
       "      <th></th>\n",
       "      <th>created_at</th>\n",
       "      <th>question_score</th>\n",
       "    </tr>\n",
       "    <tr>\n",
       "      <th>frontend_user_id</th>\n",
       "      <th>question_code</th>\n",
       "      <th></th>\n",
       "      <th></th>\n",
       "    </tr>\n",
       "  </thead>\n",
       "  <tbody>\n",
       "    <tr>\n",
       "      <th rowspan=\"3\" valign=\"top\">2</th>\n",
       "      <th>A1103003</th>\n",
       "      <td>2</td>\n",
       "      <td>50</td>\n",
       "    </tr>\n",
       "    <tr>\n",
       "      <th>D1401003</th>\n",
       "      <td>2</td>\n",
       "      <td>66</td>\n",
       "    </tr>\n",
       "    <tr>\n",
       "      <th>S1501001</th>\n",
       "      <td>2</td>\n",
       "      <td>80</td>\n",
       "    </tr>\n",
       "    <tr>\n",
       "      <th rowspan=\"2\" valign=\"top\">4094</th>\n",
       "      <th>ICM0901049</th>\n",
       "      <td>1</td>\n",
       "      <td>\\0</td>\n",
       "    </tr>\n",
       "    <tr>\n",
       "      <th>M1702004</th>\n",
       "      <td>2</td>\n",
       "      <td>100</td>\n",
       "    </tr>\n",
       "  </tbody>\n",
       "</table>\n",
       "</div>"
      ],
      "text/plain": [
       "                                created_at question_score\n",
       "frontend_user_id question_code                           \n",
       "2                A1103003                2             50\n",
       "                 D1401003                2             66\n",
       "                 S1501001                2             80\n",
       "4094             ICM0901049              1             \\0\n",
       "                 M1702004                2            100"
      ]
     },
     "execution_count": 15,
     "metadata": {},
     "output_type": "execute_result"
    }
   ],
   "source": [
    "df_logswhen = df_logs.drop(['id','action','question_state','action_object_id','from_state','result_state'],axis=1)\\\n",
    "        .groupby(['frontend_user_id','question_code'])\\\n",
    "        .agg({'created_at': min,'question_score': max})\n",
    "df_logswhen['created_at'] = df_logswhen['created_at'].map(lambda x: getchhour(str(x)))\n",
    "df_logswhen.head()"
   ]
  },
  {
   "cell_type": "markdown",
   "metadata": {},
   "source": [
    "Count the number of students and questions in each time parts"
   ]
  },
  {
   "cell_type": "code",
   "execution_count": 16,
   "metadata": {},
   "outputs": [
    {
     "data": {
      "text/html": [
       "<div>\n",
       "<style>\n",
       "    .dataframe thead tr:only-child th {\n",
       "        text-align: right;\n",
       "    }\n",
       "\n",
       "    .dataframe thead th {\n",
       "        text-align: left;\n",
       "    }\n",
       "\n",
       "    .dataframe tbody tr th {\n",
       "        vertical-align: top;\n",
       "    }\n",
       "</style>\n",
       "<table border=\"1\" class=\"dataframe\">\n",
       "  <thead>\n",
       "    <tr style=\"text-align: right;\">\n",
       "      <th></th>\n",
       "      <th>frontend_user_id</th>\n",
       "      <th>question_code</th>\n",
       "    </tr>\n",
       "    <tr>\n",
       "      <th>created_at</th>\n",
       "      <th></th>\n",
       "      <th></th>\n",
       "    </tr>\n",
       "  </thead>\n",
       "  <tbody>\n",
       "    <tr>\n",
       "      <th>0</th>\n",
       "      <td>23</td>\n",
       "      <td>74</td>\n",
       "    </tr>\n",
       "    <tr>\n",
       "      <th>1</th>\n",
       "      <td>475</td>\n",
       "      <td>1549</td>\n",
       "    </tr>\n",
       "    <tr>\n",
       "      <th>2</th>\n",
       "      <td>872</td>\n",
       "      <td>3367</td>\n",
       "    </tr>\n",
       "    <tr>\n",
       "      <th>3</th>\n",
       "      <td>746</td>\n",
       "      <td>3030</td>\n",
       "    </tr>\n",
       "  </tbody>\n",
       "</table>\n",
       "</div>"
      ],
      "text/plain": [
       "            frontend_user_id  question_code\n",
       "created_at                                 \n",
       "0                         23             74\n",
       "1                        475           1549\n",
       "2                        872           3367\n",
       "3                        746           3030"
      ]
     },
     "execution_count": 16,
     "metadata": {},
     "output_type": "execute_result"
    }
   ],
   "source": [
    "def countnum(arr):\n",
    "    return len(arr)\n",
    "df_logswhen.reset_index()\\\n",
    "            .groupby(['created_at','frontend_user_id'])\\\n",
    "            .agg({'question_code': countnum})\\\n",
    "            .reset_index()\\\n",
    "            .groupby('created_at')\\\n",
    "            .agg({'frontend_user_id': countnum,'question_code': sum})"
   ]
  },
  {
   "cell_type": "markdown",
   "metadata": {},
   "source": [
    "Use a pie chart to find the ratio of question numbers in each part"
   ]
  },
  {
   "cell_type": "code",
   "execution_count": 17,
   "metadata": {},
   "outputs": [
    {
     "data": {
      "image/png": "[encoded data removed]",
      "text/plain": [
       "<matplotlib.figure.Figure at 0x110259f50>"
      ]
     },
     "metadata": {},
     "output_type": "display_data"
    }
   ],
   "source": [
    "plt.figure(figsize=(6,9))\n",
    "labels = [u'00-06',u'06-12',u'12-18',u'18-24'] \n",
    "sizes = [74,1549,3367,3030]\n",
    "colors = ['red','yellowgreen','lightskyblue','yellow'] \n",
    "explode = (0,0,0,0) \n",
    "patches,text1,text2 = plt.pie(sizes,\n",
    "                      explode=explode,\n",
    "                      labels=labels,\n",
    "                      colors=colors,\n",
    "                      autopct = '%3.2f%%', \n",
    "                      shadow = False, \n",
    "                      startangle =90, \n",
    "                      pctdistance = 0.6) \n",
    "\n",
    "plt.axis('equal')\n",
    "plt.show()"
   ]
  },
  {
   "cell_type": "markdown",
   "metadata": {},
   "source": [
    "#### Combine time with score "
   ]
  },
  {
   "cell_type": "markdown",
   "metadata": {},
   "source": [
    "Delete the useless score records"
   ]
  },
  {
   "cell_type": "code",
   "execution_count": 18,
   "metadata": {
    "collapsed": true
   },
   "outputs": [],
   "source": [
    "def f(x):\n",
    "    if \"\\\\\" in str(x):\n",
    "        return -1\n",
    "    return x\n",
    "df_logswhen['question_score'] = df_logswhen['question_score'].map(f)\n",
    "df_logswhenII = df_logswhen[df_logswhen['question_score'] != -1]"
   ]
  },
  {
   "cell_type": "code",
   "execution_count": 19,
   "metadata": {},
   "outputs": [
    {
     "name": "stderr",
     "output_type": "stream",
     "text": [
      "/Applications/anaconda2/lib/python2.7/site-packages/ipykernel_launcher.py:7: SettingWithCopyWarning: \n",
      "A value is trying to be set on a copy of a slice from a DataFrame.\n",
      "Try using .loc[row_indexer,col_indexer] = value instead\n",
      "\n",
      "See the caveats in the documentation: http://pandas.pydata.org/pandas-docs/stable/indexing.html#indexing-view-versus-copy\n",
      "  import sys\n"
     ]
    },
    {
     "data": {
      "text/html": [
       "<div>\n",
       "<style>\n",
       "    .dataframe thead tr:only-child th {\n",
       "        text-align: right;\n",
       "    }\n",
       "\n",
       "    .dataframe thead th {\n",
       "        text-align: left;\n",
       "    }\n",
       "\n",
       "    .dataframe tbody tr th {\n",
       "        vertical-align: top;\n",
       "    }\n",
       "</style>\n",
       "<table border=\"1\" class=\"dataframe\">\n",
       "  <thead>\n",
       "    <tr style=\"text-align: right;\">\n",
       "      <th></th>\n",
       "      <th></th>\n",
       "      <th>created_at</th>\n",
       "      <th>question_score</th>\n",
       "    </tr>\n",
       "    <tr>\n",
       "      <th>frontend_user_id</th>\n",
       "      <th>question_code</th>\n",
       "      <th></th>\n",
       "      <th></th>\n",
       "    </tr>\n",
       "  </thead>\n",
       "  <tbody>\n",
       "    <tr>\n",
       "      <th rowspan=\"3\" valign=\"top\">2</th>\n",
       "      <th>A1103003</th>\n",
       "      <td>2</td>\n",
       "      <td>1</td>\n",
       "    </tr>\n",
       "    <tr>\n",
       "      <th>D1401003</th>\n",
       "      <td>2</td>\n",
       "      <td>2</td>\n",
       "    </tr>\n",
       "    <tr>\n",
       "      <th>S1501001</th>\n",
       "      <td>2</td>\n",
       "      <td>3</td>\n",
       "    </tr>\n",
       "    <tr>\n",
       "      <th rowspan=\"2\" valign=\"top\">4094</th>\n",
       "      <th>M1702004</th>\n",
       "      <td>2</td>\n",
       "      <td>3</td>\n",
       "    </tr>\n",
       "    <tr>\n",
       "      <th>M1703004</th>\n",
       "      <td>2</td>\n",
       "      <td>3</td>\n",
       "    </tr>\n",
       "  </tbody>\n",
       "</table>\n",
       "</div>"
      ],
      "text/plain": [
       "                                created_at  question_score\n",
       "frontend_user_id question_code                            \n",
       "2                A1103003                2               1\n",
       "                 D1401003                2               2\n",
       "                 S1501001                2               3\n",
       "4094             M1702004                2               3\n",
       "                 M1703004                2               3"
      ]
     },
     "execution_count": 19,
     "metadata": {},
     "output_type": "execute_result"
    }
   ],
   "source": [
    "def scorechange(arr):\n",
    "    if 0<=arr<=25: return 0;\n",
    "    elif 25<arr<=50: return 1;\n",
    "    elif 50<arr<=75: return 2;\n",
    "    else: return 3;\n",
    "df_scorewhen = df_logswhenII#.drop('index',axis = 1)\n",
    "df_scorewhen['question_score'] = df_scorewhen['question_score'].map(scorechange)\n",
    "df_scorewhen.head()"
   ]
  },
  {
   "cell_type": "markdown",
   "metadata": {},
   "source": [
    "Prepare data for drawing"
   ]
  },
  {
   "cell_type": "code",
   "execution_count": 20,
   "metadata": {},
   "outputs": [
    {
     "data": {
      "text/html": [
       "<div>\n",
       "<style>\n",
       "    .dataframe thead tr:only-child th {\n",
       "        text-align: right;\n",
       "    }\n",
       "\n",
       "    .dataframe thead th {\n",
       "        text-align: left;\n",
       "    }\n",
       "\n",
       "    .dataframe tbody tr th {\n",
       "        vertical-align: top;\n",
       "    }\n",
       "</style>\n",
       "<table border=\"1\" class=\"dataframe\">\n",
       "  <thead>\n",
       "    <tr style=\"text-align: right;\">\n",
       "      <th></th>\n",
       "      <th>created_at</th>\n",
       "      <th>question_score</th>\n",
       "      <th>frontend_user_id</th>\n",
       "      <th>question_code</th>\n",
       "    </tr>\n",
       "  </thead>\n",
       "  <tbody>\n",
       "    <tr>\n",
       "      <th>0</th>\n",
       "      <td>0</td>\n",
       "      <td>0</td>\n",
       "      <td>3</td>\n",
       "      <td>3</td>\n",
       "    </tr>\n",
       "    <tr>\n",
       "      <th>1</th>\n",
       "      <td>0</td>\n",
       "      <td>1</td>\n",
       "      <td>2</td>\n",
       "      <td>2</td>\n",
       "    </tr>\n",
       "    <tr>\n",
       "      <th>2</th>\n",
       "      <td>0</td>\n",
       "      <td>2</td>\n",
       "      <td>1</td>\n",
       "      <td>1</td>\n",
       "    </tr>\n",
       "    <tr>\n",
       "      <th>3</th>\n",
       "      <td>0</td>\n",
       "      <td>3</td>\n",
       "      <td>18</td>\n",
       "      <td>18</td>\n",
       "    </tr>\n",
       "    <tr>\n",
       "      <th>4</th>\n",
       "      <td>1</td>\n",
       "      <td>0</td>\n",
       "      <td>143</td>\n",
       "      <td>143</td>\n",
       "    </tr>\n",
       "  </tbody>\n",
       "</table>\n",
       "</div>"
      ],
      "text/plain": [
       "   created_at  question_score  frontend_user_id  question_code\n",
       "0           0               0                 3              3\n",
       "1           0               1                 2              2\n",
       "2           0               2                 1              1\n",
       "3           0               3                18             18\n",
       "4           1               0               143            143"
      ]
     },
     "execution_count": 20,
     "metadata": {},
     "output_type": "execute_result"
    }
   ],
   "source": [
    "df_scorewhengra = df_scorewhen.reset_index().groupby(['created_at','question_score']).count().reset_index()\n",
    "df_scorefir = df_scorewhengra[df_scorewhengra['question_score']==0].reset_index()\n",
    "df_scoresec = df_scorewhengra[df_scorewhengra['question_score']==1].reset_index()\n",
    "df_scorethi = df_scorewhengra[df_scorewhengra['question_score']==2].reset_index()\n",
    "df_scorefor = df_scorewhengra[df_scorewhengra['question_score']==3].reset_index()\n",
    "df_scorewhengra.head()"
   ]
  },
  {
   "cell_type": "code",
   "execution_count": 21,
   "metadata": {},
   "outputs": [
    {
     "data": {
      "image/png": "[encoded data removed]",
      "text/plain": [
       "<matplotlib.figure.Figure at 0x10ef6ec90>"
      ]
     },
     "metadata": {},
     "output_type": "display_data"
    }
   ],
   "source": [
    "def changearr(df,attrinum):\n",
    "    a = []\n",
    "    j = 0\n",
    "    for i in range(len(df)):\n",
    "        if (df['created_at'][i] - j) == 0:\n",
    "            a.append(df['question_code'][i])\n",
    "            j = j+1\n",
    "            if j==len(df):\n",
    "                if j != attrinum:\n",
    "                    for h in range(attrinum-j):\n",
    "                        a.append(0)\n",
    "        elif (df['created_at'][i] - j)>0:\n",
    "            for k in range(df['created_at'][i] - j):\n",
    "                a.append(0)\n",
    "            j = df['created_at'][i]\n",
    "        else:\n",
    "            a.append(0)\n",
    "            j = j+1\n",
    "            if j == attrinum: break\n",
    "    return a\n",
    "df = pd.DataFrame({'0-25': changearr(df_scorefir,4),\n",
    "                   '26-50':changearr(df_scoresec,4),\n",
    "                   '51-75':changearr(df_scorethi,4),\n",
    "                   '76-100':changearr(df_scorefor,4)}, index=['0-6','6-12','12-18','18-24'])\n",
    "ax = df.plot.bar(rot=0)\n",
    "plt.show()"
   ]
  },
  {
   "cell_type": "markdown",
   "metadata": {},
   "source": [
    "It seems that the score isn't related tightly with the time when students learn in a day. In order to understand more details, let's draw a 24h line chart. "
   ]
  },
  {
   "cell_type": "code",
   "execution_count": 22,
   "metadata": {},
   "outputs": [
    {
     "data": {
      "text/html": [
       "<div>\n",
       "<style>\n",
       "    .dataframe thead tr:only-child th {\n",
       "        text-align: right;\n",
       "    }\n",
       "\n",
       "    .dataframe thead th {\n",
       "        text-align: left;\n",
       "    }\n",
       "\n",
       "    .dataframe tbody tr th {\n",
       "        vertical-align: top;\n",
       "    }\n",
       "</style>\n",
       "<table border=\"1\" class=\"dataframe\">\n",
       "  <thead>\n",
       "    <tr style=\"text-align: right;\">\n",
       "      <th></th>\n",
       "      <th>frontend_user_id</th>\n",
       "      <th>question_code</th>\n",
       "      <th>created_at</th>\n",
       "      <th>question_score</th>\n",
       "      <th>Time_in_a_day</th>\n",
       "    </tr>\n",
       "  </thead>\n",
       "  <tbody>\n",
       "    <tr>\n",
       "      <th>0</th>\n",
       "      <td>4094</td>\n",
       "      <td>ICM0901049</td>\n",
       "      <td>17/4/2018 2:32:30</td>\n",
       "      <td>100</td>\n",
       "      <td>10:00</td>\n",
       "    </tr>\n",
       "    <tr>\n",
       "      <th>1</th>\n",
       "      <td>4094</td>\n",
       "      <td>ICM0901127</td>\n",
       "      <td>28/11/2017 14:09:19</td>\n",
       "      <td>0</td>\n",
       "      <td>22:00</td>\n",
       "    </tr>\n",
       "    <tr>\n",
       "      <th>2</th>\n",
       "      <td>4094</td>\n",
       "      <td>M1702003</td>\n",
       "      <td>18/12/2017 3:49:49</td>\n",
       "      <td>100</td>\n",
       "      <td>11:00</td>\n",
       "    </tr>\n",
       "    <tr>\n",
       "      <th>3</th>\n",
       "      <td>4094</td>\n",
       "      <td>M1702004</td>\n",
       "      <td>5/4/2018 6:50:32</td>\n",
       "      <td>100</td>\n",
       "      <td>14:00</td>\n",
       "    </tr>\n",
       "    <tr>\n",
       "      <th>4</th>\n",
       "      <td>4094</td>\n",
       "      <td>M1703004</td>\n",
       "      <td>5/4/2018 7:08:38</td>\n",
       "      <td>100</td>\n",
       "      <td>15:00</td>\n",
       "    </tr>\n",
       "  </tbody>\n",
       "</table>\n",
       "</div>"
      ],
      "text/plain": [
       "   frontend_user_id question_code           created_at  question_score  \\\n",
       "0              4094    ICM0901049    17/4/2018 2:32:30             100   \n",
       "1              4094    ICM0901127  28/11/2017 14:09:19               0   \n",
       "2              4094      M1702003   18/12/2017 3:49:49             100   \n",
       "3              4094      M1702004     5/4/2018 6:50:32             100   \n",
       "4              4094      M1703004     5/4/2018 7:08:38             100   \n",
       "\n",
       "  Time_in_a_day  \n",
       "0         10:00  \n",
       "1         22:00  \n",
       "2         11:00  \n",
       "3         14:00  \n",
       "4         15:00  "
      ]
     },
     "execution_count": 22,
     "metadata": {},
     "output_type": "execute_result"
    }
   ],
   "source": [
    "def geteveryhour(arr):\n",
    "    hour = int(arr.split(':')[0].split(' ')[1])\n",
    "    if hour < 16: hour = hour + 8\n",
    "    else: hour = hour-16\n",
    "    if hour<10:\n",
    "        return '0' + str(hour) +':00';\n",
    "    else:\n",
    "        return str(hour) + ':00'\n",
    "\n",
    "def getmean(arr):\n",
    "    total = 0\n",
    "    for i in arr:\n",
    "        total = total + i\n",
    "    return total/len(arr)\n",
    "df_everywhen = df_attempts.drop_duplicates()\\\n",
    "            .groupby(['frontend_user_id','question_code'])\\\n",
    "            .agg({'created_at': min,'question_score': max}).reset_index()\n",
    "df_everywhen['Time_in_a_day'] = df_everywhen['created_at'].map(lambda x: geteveryhour(x))\n",
    "df_everywhen.head()"
   ]
  },
  {
   "cell_type": "code",
   "execution_count": 23,
   "metadata": {
    "collapsed": true
   },
   "outputs": [],
   "source": [
    "df_everyhourplot = df_everywhen.groupby('Time_in_a_day').agg({'frontend_user_id': countnum, 'question_score': getmean})\\\n",
    "                                .rename(columns = {'frontend_user_id': 'user_number','question_score':'average_score'})"
   ]
  },
  {
   "cell_type": "markdown",
   "metadata": {},
   "source": [
    "Draw the line chart"
   ]
  },
  {
   "cell_type": "code",
   "execution_count": 24,
   "metadata": {},
   "outputs": [
    {
     "data": {
      "image/png": "[encoded data removed]",
      "text/plain": [
       "<matplotlib.figure.Figure at 0x10ef9c410>"
      ]
     },
     "metadata": {},
     "output_type": "display_data"
    }
   ],
   "source": [
    "ax = df_everyhourplot.plot(\n",
    "    secondary_y=['average_score'],\n",
    "    x_compat=True,\n",
    "    grid=True)\n",
    "\n",
    "ax.set_title(\"\")\n",
    "ax.set_ylabel('User Number')\n",
    "ax.set_xlabel('Time in a day')\n",
    "ax.grid(linestyle=\"--\", alpha=0.3)\n",
    "\n",
    "ax.right_ax.set_ylabel('Average Score at Each Period')\n",
    "ax.legend_.remove()\n",
    "plt.show()"
   ]
  },
  {
   "cell_type": "markdown",
   "metadata": {},
   "source": [
    "From the line chart, it shows that students have different learning performance at different time in a day. <br>\n",
    "\n",
    "Attention: if we indeed want to know if hours could give some evidences about student learning habit, we need to collect more data of a student. The interaction records of each person in the dataset are always created by the person in one day."
   ]
  },
  {
   "cell_type": "markdown",
   "metadata": {},
   "source": [
    "### At weekday level to explore the data"
   ]
  },
  {
   "cell_type": "code",
   "execution_count": 25,
   "metadata": {},
   "outputs": [
    {
     "data": {
      "text/html": [
       "<div>\n",
       "<style>\n",
       "    .dataframe thead tr:only-child th {\n",
       "        text-align: right;\n",
       "    }\n",
       "\n",
       "    .dataframe thead th {\n",
       "        text-align: left;\n",
       "    }\n",
       "\n",
       "    .dataframe tbody tr th {\n",
       "        vertical-align: top;\n",
       "    }\n",
       "</style>\n",
       "<table border=\"1\" class=\"dataframe\">\n",
       "  <thead>\n",
       "    <tr style=\"text-align: right;\">\n",
       "      <th></th>\n",
       "      <th>frontend_user_id</th>\n",
       "      <th>question_code</th>\n",
       "      <th>created_at</th>\n",
       "      <th>question_score</th>\n",
       "      <th>weekday</th>\n",
       "    </tr>\n",
       "  </thead>\n",
       "  <tbody>\n",
       "    <tr>\n",
       "      <th>0</th>\n",
       "      <td>4094</td>\n",
       "      <td>ICM0901049</td>\n",
       "      <td>17/4/2018 2:32:30</td>\n",
       "      <td>100</td>\n",
       "      <td>1</td>\n",
       "    </tr>\n",
       "    <tr>\n",
       "      <th>1</th>\n",
       "      <td>4094</td>\n",
       "      <td>ICM0901127</td>\n",
       "      <td>28/11/2017 14:09:19</td>\n",
       "      <td>0</td>\n",
       "      <td>1</td>\n",
       "    </tr>\n",
       "    <tr>\n",
       "      <th>2</th>\n",
       "      <td>4094</td>\n",
       "      <td>M1702003</td>\n",
       "      <td>18/12/2017 3:49:49</td>\n",
       "      <td>100</td>\n",
       "      <td>0</td>\n",
       "    </tr>\n",
       "    <tr>\n",
       "      <th>3</th>\n",
       "      <td>4094</td>\n",
       "      <td>M1702004</td>\n",
       "      <td>5/4/2018 6:50:32</td>\n",
       "      <td>100</td>\n",
       "      <td>4</td>\n",
       "    </tr>\n",
       "    <tr>\n",
       "      <th>4</th>\n",
       "      <td>4094</td>\n",
       "      <td>M1703004</td>\n",
       "      <td>5/4/2018 7:08:38</td>\n",
       "      <td>100</td>\n",
       "      <td>4</td>\n",
       "    </tr>\n",
       "  </tbody>\n",
       "</table>\n",
       "</div>"
      ],
      "text/plain": [
       "   frontend_user_id question_code           created_at  question_score  \\\n",
       "0              4094    ICM0901049    17/4/2018 2:32:30             100   \n",
       "1              4094    ICM0901127  28/11/2017 14:09:19               0   \n",
       "2              4094      M1702003   18/12/2017 3:49:49             100   \n",
       "3              4094      M1702004     5/4/2018 6:50:32             100   \n",
       "4              4094      M1703004     5/4/2018 7:08:38             100   \n",
       "\n",
       "   weekday  \n",
       "0        1  \n",
       "1        1  \n",
       "2        0  \n",
       "3        4  \n",
       "4        4  "
      ]
     },
     "execution_count": 25,
     "metadata": {},
     "output_type": "execute_result"
    }
   ],
   "source": [
    "def chdate(arr):\n",
    "    if int(str(arr).split(' ')[1].split(':')[0]) > 15:\n",
    "        arr = pd.to_datetime(pd.to_datetime(str(arr).split(' ')[0],errors='coerce') + datetime.timedelta(days = 1),errors='coerce')\n",
    "    else:\n",
    "        arr = pd.to_datetime(str(arr).split(' ')[0],errors='coerce')\n",
    "    return arr \n",
    "df_weekday=df_attempts.drop_duplicates()\\\n",
    "            .groupby(['frontend_user_id','question_code'])\\\n",
    "            .agg({'created_at': min,'question_score': max}).reset_index()\n",
    "df_weekday['weekday'] = df_weekday['created_at'].map(lambda x : chdate(x))\n",
    "df_weekday['weekday'] = pd.to_datetime(df_weekday['weekday'], errors='coerce')\n",
    "df_weekday['weekday'] = df_weekday['weekday'].dt.weekday.rename(columns={'created_at': 'weekday'})\n",
    "df_weekday.head()"
   ]
  },
  {
   "cell_type": "code",
   "execution_count": 26,
   "metadata": {},
   "outputs": [
    {
     "data": {
      "text/html": [
       "<div>\n",
       "<style>\n",
       "    .dataframe thead tr:only-child th {\n",
       "        text-align: right;\n",
       "    }\n",
       "\n",
       "    .dataframe thead th {\n",
       "        text-align: left;\n",
       "    }\n",
       "\n",
       "    .dataframe tbody tr th {\n",
       "        vertical-align: top;\n",
       "    }\n",
       "</style>\n",
       "<table border=\"1\" class=\"dataframe\">\n",
       "  <thead>\n",
       "    <tr style=\"text-align: right;\">\n",
       "      <th></th>\n",
       "      <th>weekday</th>\n",
       "      <th>created_at</th>\n",
       "      <th>frontend_user_id</th>\n",
       "      <th>question_score</th>\n",
       "    </tr>\n",
       "  </thead>\n",
       "  <tbody>\n",
       "    <tr>\n",
       "      <th>0</th>\n",
       "      <td>0</td>\n",
       "      <td>0</td>\n",
       "      <td>13</td>\n",
       "      <td>82</td>\n",
       "    </tr>\n",
       "    <tr>\n",
       "      <th>1</th>\n",
       "      <td>0</td>\n",
       "      <td>1</td>\n",
       "      <td>167</td>\n",
       "      <td>63</td>\n",
       "    </tr>\n",
       "    <tr>\n",
       "      <th>2</th>\n",
       "      <td>0</td>\n",
       "      <td>2</td>\n",
       "      <td>454</td>\n",
       "      <td>56</td>\n",
       "    </tr>\n",
       "    <tr>\n",
       "      <th>3</th>\n",
       "      <td>0</td>\n",
       "      <td>3</td>\n",
       "      <td>438</td>\n",
       "      <td>61</td>\n",
       "    </tr>\n",
       "    <tr>\n",
       "      <th>4</th>\n",
       "      <td>1</td>\n",
       "      <td>0</td>\n",
       "      <td>9</td>\n",
       "      <td>81</td>\n",
       "    </tr>\n",
       "  </tbody>\n",
       "</table>\n",
       "</div>"
      ],
      "text/plain": [
       "   weekday  created_at  frontend_user_id  question_score\n",
       "0        0           0                13              82\n",
       "1        0           1               167              63\n",
       "2        0           2               454              56\n",
       "3        0           3               438              61\n",
       "4        1           0                 9              81"
      ]
     },
     "execution_count": 26,
     "metadata": {},
     "output_type": "execute_result"
    }
   ],
   "source": [
    "df_weekhourplot = df_weekday\n",
    "df_weekhourplot['created_at'] = df_weekhourplot['created_at'].map(getchhour)\n",
    "df_weekhourplot=df_weekhourplot.groupby(['weekday','created_at'])\\\n",
    "                .agg({'question_score':getmean,'frontend_user_id': countnum})\\\n",
    "                .reset_index()\n",
    "df_weekhourplot.head()"
   ]
  },
  {
   "cell_type": "code",
   "execution_count": 27,
   "metadata": {},
   "outputs": [
    {
     "data": {
      "image/png": "[encoded data removed]",
      "text/plain": [
       "<matplotlib.figure.Figure at 0x10f5f0dd0>"
      ]
     },
     "metadata": {},
     "output_type": "display_data"
    }
   ],
   "source": [
    "def getarr(arr):\n",
    "    a = []\n",
    "    for i in arr:\n",
    "        a.append(i)\n",
    "    return a\n",
    "\n",
    "df = pd.DataFrame({'00:00-06:00': getarr(df_weekhourplot[df_weekhourplot['created_at']==0].reset_index().drop('index',axis=1)['frontend_user_id']),\n",
    "                   '06:00-12:00':getarr(df_weekhourplot[df_weekhourplot['created_at']==1].reset_index().drop('index',axis=1)['frontend_user_id']),\n",
    "                   '12:00-18:00':getarr(df_weekhourplot[df_weekhourplot['created_at']==2].reset_index().drop('index',axis=1)['frontend_user_id']),\n",
    "                   '18:00-00:00':getarr(df_weekhourplot[df_weekhourplot['created_at']==3].reset_index().drop('index',axis=1)['frontend_user_id'])},\n",
    "                  index=['Mon','Tue','Wed','Thu','Fri','Sat','Sun'])\n",
    "ax = df.plot.bar(rot=0)\n",
    "plt.ylabel('User Number')\n",
    "plt.legend(loc='upper left', bbox_to_anchor=(0,0.999),ncol=2,fancybox=True,shadow=True,fontsize=13)\n",
    "plt.ylim((0,1100))\n",
    "plt.show()"
   ]
  },
  {
   "cell_type": "code",
   "execution_count": null,
   "metadata": {
    "collapsed": true
   },
   "outputs": [],
   "source": []
  }
 ],
 "metadata": {
  "kernelspec": {
   "display_name": "Python 2",
   "language": "python",
   "name": "python2"
  },
  "language_info": {
   "codemirror_mode": {
    "name": "ipython",
    "version": 2
   },
   "file_extension": ".py",
   "mimetype": "text/x-python",
   "name": "python",
   "nbconvert_exporter": "python",
   "pygments_lexer": "ipython2",
   "version": "2.7.13"
  }
 },
 "nbformat": 4,
 "nbformat_minor": 2
}
